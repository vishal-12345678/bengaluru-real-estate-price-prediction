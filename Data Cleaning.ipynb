{
 "cells": [
  {
   "cell_type": "code",
   "execution_count": 1,
   "id": "319e2a77",
   "metadata": {},
   "outputs": [],
   "source": [
    "import pandas as pd\n",
    "import numpy as np\n",
    "from matplotlib import pyplot as plt\n",
    "\n",
    "\n"
   ]
  },
  {
   "cell_type": "code",
   "execution_count": 2,
   "id": "1f49f0b2",
   "metadata": {},
   "outputs": [
    {
     "name": "stdout",
     "output_type": "stream",
     "text": [
      "                  area_type   availability                  location  \\\n",
      "0      Super built-up  Area         19-Dec  Electronic City Phase II   \n",
      "1                Plot  Area  Ready To Move          Chikka Tirupathi   \n",
      "2            Built-up  Area  Ready To Move               Uttarahalli   \n",
      "3      Super built-up  Area  Ready To Move        Lingadheeranahalli   \n",
      "4      Super built-up  Area  Ready To Move                  Kothanur   \n",
      "...                     ...            ...                       ...   \n",
      "13315        Built-up  Area  Ready To Move                Whitefield   \n",
      "13316  Super built-up  Area  Ready To Move             Richards Town   \n",
      "13317        Built-up  Area  Ready To Move     Raja Rajeshwari Nagar   \n",
      "13318  Super built-up  Area         18-Jun           Padmanabhanagar   \n",
      "13319  Super built-up  Area  Ready To Move              Doddathoguru   \n",
      "\n",
      "            size  society total_sqft  bath  balcony   price  \n",
      "0          2 BHK  Coomee        1056   2.0      1.0   39.07  \n",
      "1      4 Bedroom  Theanmp       2600   5.0      3.0  120.00  \n",
      "2          3 BHK      NaN       1440   2.0      3.0   62.00  \n",
      "3          3 BHK  Soiewre       1521   3.0      1.0   95.00  \n",
      "4          2 BHK      NaN       1200   2.0      1.0   51.00  \n",
      "...          ...      ...        ...   ...      ...     ...  \n",
      "13315  5 Bedroom  ArsiaEx       3453   4.0      0.0  231.00  \n",
      "13316      4 BHK      NaN       3600   5.0      NaN  400.00  \n",
      "13317      2 BHK  Mahla T       1141   2.0      1.0   60.00  \n",
      "13318      4 BHK  SollyCl       4689   4.0      1.0  488.00  \n",
      "13319      1 BHK      NaN        550   1.0      1.0   17.00  \n",
      "\n",
      "[13320 rows x 9 columns]\n"
     ]
    }
   ],
   "source": [
    "# reading the file\n",
    "df1=pd.read_csv(\"Bengaluru_House_Data.csv \")\n",
    "print(df1)"
   ]
  },
  {
   "cell_type": "code",
   "execution_count": 3,
   "id": "e463267c",
   "metadata": {},
   "outputs": [
    {
     "data": {
      "text/plain": [
       "(13320, 9)"
      ]
     },
     "execution_count": 3,
     "metadata": {},
     "output_type": "execute_result"
    }
   ],
   "source": [
    "df1.shape"
   ]
  },
  {
   "cell_type": "markdown",
   "id": "0aac4ab9",
   "metadata": {},
   "source": [
    "# to drop columns which are irrelavant"
   ]
  },
  {
   "cell_type": "code",
   "execution_count": 4,
   "id": "d2269257",
   "metadata": {},
   "outputs": [
    {
     "name": "stdout",
     "output_type": "stream",
     "text": [
      "                       location       size total_sqft  bath   price\n",
      "0      Electronic City Phase II      2 BHK       1056   2.0   39.07\n",
      "1              Chikka Tirupathi  4 Bedroom       2600   5.0  120.00\n",
      "2                   Uttarahalli      3 BHK       1440   2.0   62.00\n",
      "3            Lingadheeranahalli      3 BHK       1521   3.0   95.00\n",
      "4                      Kothanur      2 BHK       1200   2.0   51.00\n",
      "...                         ...        ...        ...   ...     ...\n",
      "13315                Whitefield  5 Bedroom       3453   4.0  231.00\n",
      "13316             Richards Town      4 BHK       3600   5.0  400.00\n",
      "13317     Raja Rajeshwari Nagar      2 BHK       1141   2.0   60.00\n",
      "13318           Padmanabhanagar      4 BHK       4689   4.0  488.00\n",
      "13319              Doddathoguru      1 BHK        550   1.0   17.00\n",
      "\n",
      "[13320 rows x 5 columns]\n"
     ]
    }
   ],
   "source": [
    "#ist cleaning dropint of columns\n",
    "# now we want to drop some of the column which are not significantcommand used  df1.drop([column_name],[column name])\n",
    "# after that we will create a new dataframe to store data\n",
    "df2=df1.drop(['area_type','availability','society','balcony'],axis=1)# by default axis=0\n",
    "#df2 = df1.drop(['area_type','society','balcony','availability'],axis='columns')\n",
    "print(df2)\n",
    "\n"
   ]
  },
  {
   "cell_type": "markdown",
   "id": "3c654a3f",
   "metadata": {},
   "source": [
    "# to drop rows which contain null values"
   ]
  },
  {
   "cell_type": "code",
   "execution_count": 5,
   "id": "c22d9e9b",
   "metadata": {},
   "outputs": [
    {
     "data": {
      "text/plain": [
       "location       1\n",
       "size          16\n",
       "total_sqft     0\n",
       "bath          73\n",
       "price          0\n",
       "dtype: int64"
      ]
     },
     "execution_count": 5,
     "metadata": {},
     "output_type": "execute_result"
    }
   ],
   "source": [
    "# 2nd cleaning drop null values lets first see how many null values are their\n",
    "df2.isnull().sum()"
   ]
  },
  {
   "cell_type": "code",
   "execution_count": 6,
   "id": "e06208d4",
   "metadata": {},
   "outputs": [
    {
     "name": "stdout",
     "output_type": "stream",
     "text": [
      "                       location       size total_sqft  bath   price\n",
      "0      Electronic City Phase II      2 BHK       1056   2.0   39.07\n",
      "1              Chikka Tirupathi  4 Bedroom       2600   5.0  120.00\n",
      "2                   Uttarahalli      3 BHK       1440   2.0   62.00\n",
      "3            Lingadheeranahalli      3 BHK       1521   3.0   95.00\n",
      "4                      Kothanur      2 BHK       1200   2.0   51.00\n",
      "...                         ...        ...        ...   ...     ...\n",
      "13315                Whitefield  5 Bedroom       3453   4.0  231.00\n",
      "13316             Richards Town      4 BHK       3600   5.0  400.00\n",
      "13317     Raja Rajeshwari Nagar      2 BHK       1141   2.0   60.00\n",
      "13318           Padmanabhanagar      4 BHK       4689   4.0  488.00\n",
      "13319              Doddathoguru      1 BHK        550   1.0   17.00\n",
      "\n",
      "[13246 rows x 5 columns]\n"
     ]
    }
   ],
   "source": [
    "#function used will be dropna()\n",
    "df3=df2.dropna()\n",
    "print(df3)\n"
   ]
  },
  {
   "cell_type": "markdown",
   "id": "e6fe367b",
   "metadata": {},
   "source": [
    "# feature enginearing\n",
    "# to fetch new columns with number of bedrooms only in it from column size"
   ]
  },
  {
   "cell_type": "code",
   "execution_count": 7,
   "id": "1990b63b",
   "metadata": {},
   "outputs": [
    {
     "data": {
      "text/plain": [
       "array(['2 BHK', '4 Bedroom', '3 BHK', '4 BHK', '6 Bedroom', '3 Bedroom',\n",
       "       '1 BHK', '1 RK', '1 Bedroom', '8 Bedroom', '2 Bedroom',\n",
       "       '7 Bedroom', '5 BHK', '7 BHK', '6 BHK', '5 Bedroom', '11 BHK',\n",
       "       '9 BHK', '9 Bedroom', '27 BHK', '10 Bedroom', '11 Bedroom',\n",
       "       '10 BHK', '19 BHK', '16 BHK', '43 Bedroom', '14 BHK', '8 BHK',\n",
       "       '12 Bedroom', '13 BHK', '18 Bedroom'], dtype=object)"
      ]
     },
     "execution_count": 7,
     "metadata": {},
     "output_type": "execute_result"
    }
   ],
   "source": [
    "#lets work on other column i.e size we can see 2 bhk , 4bedroom so diff refrences are used for same thing we have to collect \n",
    "#values which are interger in front of everyone i.e from 2 bhk collect 2 so on\n",
    "df3['size'].unique()"
   ]
  },
  {
   "cell_type": "code",
   "execution_count": 8,
   "id": "1f2b9664",
   "metadata": {},
   "outputs": [
    {
     "name": "stdout",
     "output_type": "stream",
     "text": [
      "                       location       size total_sqft  bath   price  bhk value\n",
      "0      Electronic City Phase II      2 BHK       1056   2.0   39.07          2\n",
      "1              Chikka Tirupathi  4 Bedroom       2600   5.0  120.00          4\n",
      "2                   Uttarahalli      3 BHK       1440   2.0   62.00          3\n",
      "3            Lingadheeranahalli      3 BHK       1521   3.0   95.00          3\n",
      "4                      Kothanur      2 BHK       1200   2.0   51.00          2\n",
      "...                         ...        ...        ...   ...     ...        ...\n",
      "13315                Whitefield  5 Bedroom       3453   4.0  231.00          5\n",
      "13316             Richards Town      4 BHK       3600   5.0  400.00          4\n",
      "13317     Raja Rajeshwari Nagar      2 BHK       1141   2.0   60.00          2\n",
      "13318           Padmanabhanagar      4 BHK       4689   4.0  488.00          4\n",
      "13319              Doddathoguru      1 BHK        550   1.0   17.00          1\n",
      "\n",
      "[13246 rows x 6 columns]\n"
     ]
    },
    {
     "name": "stderr",
     "output_type": "stream",
     "text": [
      "C:\\Users\\sansa\\AppData\\Local\\Temp\\ipykernel_32408\\2884081315.py:3: SettingWithCopyWarning: \n",
      "A value is trying to be set on a copy of a slice from a DataFrame.\n",
      "Try using .loc[row_indexer,col_indexer] = value instead\n",
      "\n",
      "See the caveats in the documentation: https://pandas.pydata.org/pandas-docs/stable/user_guide/indexing.html#returning-a-view-versus-a-copy\n",
      "  df3['bhk value']=df3['size'].apply(lambda x: int(x.split(' ')[0])) # split each elemnt into list 2 part and extract the first elemnet\n"
     ]
    }
   ],
   "source": [
    "# collecting interger values from them to do that we will use split function we split in 2 part 2 nad bhk i.e create list for each elemnet\n",
    "# collect interger into new column\n",
    "df3['bhk value']=df3['size'].apply(lambda x: int(x.split(' ')[0])) # split each elemnt into list 2 part and extract the first elemnet\n",
    "\n",
    "print(df3)                                   \n"
   ]
  },
  {
   "cell_type": "code",
   "execution_count": 9,
   "id": "cb10528a",
   "metadata": {},
   "outputs": [
    {
     "data": {
      "text/plain": [
       "array([ 2,  4,  3,  6,  1,  8,  7,  5, 11,  9, 27, 10, 19, 16, 43, 14, 12,\n",
       "       13, 18], dtype=int64)"
      ]
     },
     "execution_count": 9,
     "metadata": {},
     "output_type": "execute_result"
    }
   ],
   "source": [
    "\n",
    "# unique fuction very import to know unique value in column and then analysing them whether they are uselful or not\n",
    "# so 27 and 43 look odd value here it will return a list\n",
    "df3['bhk value'].unique()"
   ]
  },
  {
   "cell_type": "code",
   "execution_count": 10,
   "id": "0a335cc8",
   "metadata": {},
   "outputs": [
    {
     "data": {
      "text/html": [
       "<div>\n",
       "<style scoped>\n",
       "    .dataframe tbody tr th:only-of-type {\n",
       "        vertical-align: middle;\n",
       "    }\n",
       "\n",
       "    .dataframe tbody tr th {\n",
       "        vertical-align: top;\n",
       "    }\n",
       "\n",
       "    .dataframe thead th {\n",
       "        text-align: right;\n",
       "    }\n",
       "</style>\n",
       "<table border=\"1\" class=\"dataframe\">\n",
       "  <thead>\n",
       "    <tr style=\"text-align: right;\">\n",
       "      <th></th>\n",
       "      <th>location</th>\n",
       "      <th>size</th>\n",
       "      <th>total_sqft</th>\n",
       "      <th>bath</th>\n",
       "      <th>price</th>\n",
       "      <th>bhk value</th>\n",
       "    </tr>\n",
       "  </thead>\n",
       "  <tbody>\n",
       "    <tr>\n",
       "      <th>1718</th>\n",
       "      <td>2Electronic City Phase II</td>\n",
       "      <td>27 BHK</td>\n",
       "      <td>8000</td>\n",
       "      <td>27.0</td>\n",
       "      <td>230.0</td>\n",
       "      <td>27</td>\n",
       "    </tr>\n",
       "    <tr>\n",
       "      <th>4684</th>\n",
       "      <td>Munnekollal</td>\n",
       "      <td>43 Bedroom</td>\n",
       "      <td>2400</td>\n",
       "      <td>40.0</td>\n",
       "      <td>660.0</td>\n",
       "      <td>43</td>\n",
       "    </tr>\n",
       "  </tbody>\n",
       "</table>\n",
       "</div>"
      ],
      "text/plain": [
       "                       location        size total_sqft  bath  price  bhk value\n",
       "1718  2Electronic City Phase II      27 BHK       8000  27.0  230.0         27\n",
       "4684                Munnekollal  43 Bedroom       2400  40.0  660.0         43"
      ]
     },
     "execution_count": 10,
     "metadata": {},
     "output_type": "execute_result"
    }
   ],
   "source": [
    "df3[df3['bhk value']>20]\n",
    "# we can see that 27 bhk and 43 bhk has 2400 total sqft its not possible we will see it later what to do with it is it possible or not"
   ]
  },
  {
   "cell_type": "markdown",
   "id": "a3106bc9",
   "metadata": {},
   "source": [
    "# to work on sqft column and eliminating rows with diff unit then sqft and putting mean on place '2100-2150'type rows \n",
    "# and converting to float of ramnaing rows value of sqft column"
   ]
  },
  {
   "cell_type": "code",
   "execution_count": 11,
   "id": "a9167a86",
   "metadata": {},
   "outputs": [
    {
     "data": {
      "text/plain": [
       "0    1056\n",
       "1    2600\n",
       "2    1440\n",
       "3    1521\n",
       "4    1200\n",
       "5    1170\n",
       "6    2732\n",
       "7    3300\n",
       "8    1310\n",
       "9    1020\n",
       "Name: total_sqft, dtype: object"
      ]
     },
     "execution_count": 11,
     "metadata": {},
     "output_type": "execute_result"
    }
   ],
   "source": [
    "#now lets work on sqft  column and get some insight of it and what to clean in thiis column\n",
    "df3['total_sqft'].head(10)"
   ]
  },
  {
   "cell_type": "code",
   "execution_count": 12,
   "id": "99abefce",
   "metadata": {},
   "outputs": [],
   "source": [
    "# we can clearly see value like '1133-1384' so we have to puta single value here look like range is give\n",
    "# we want to plot columns for value which are not single value i.e 1056,2600 so not single value \n",
    "# to fetch these rows you will definea function bool function which will filteer the rows with '1133-1384'\n",
    "\n",
    "def is_float(x): # x is row elent of tatal_sqft column\n",
    "    try:\n",
    "        float(x)\n",
    "    except:\n",
    "        return False\n",
    "    \n",
    "    return True  # you can convert x into float retrn true else return false\n"
   ]
  },
  {
   "cell_type": "code",
   "execution_count": 13,
   "id": "f06d3558",
   "metadata": {},
   "outputs": [
    {
     "data": {
      "text/html": [
       "<div>\n",
       "<style scoped>\n",
       "    .dataframe tbody tr th:only-of-type {\n",
       "        vertical-align: middle;\n",
       "    }\n",
       "\n",
       "    .dataframe tbody tr th {\n",
       "        vertical-align: top;\n",
       "    }\n",
       "\n",
       "    .dataframe thead th {\n",
       "        text-align: right;\n",
       "    }\n",
       "</style>\n",
       "<table border=\"1\" class=\"dataframe\">\n",
       "  <thead>\n",
       "    <tr style=\"text-align: right;\">\n",
       "      <th></th>\n",
       "      <th>location</th>\n",
       "      <th>size</th>\n",
       "      <th>total_sqft</th>\n",
       "      <th>bath</th>\n",
       "      <th>price</th>\n",
       "      <th>bhk value</th>\n",
       "    </tr>\n",
       "  </thead>\n",
       "  <tbody>\n",
       "    <tr>\n",
       "      <th>30</th>\n",
       "      <td>Yelahanka</td>\n",
       "      <td>4 BHK</td>\n",
       "      <td>2100 - 2850</td>\n",
       "      <td>4.0</td>\n",
       "      <td>186.000</td>\n",
       "      <td>4</td>\n",
       "    </tr>\n",
       "    <tr>\n",
       "      <th>122</th>\n",
       "      <td>Hebbal</td>\n",
       "      <td>4 BHK</td>\n",
       "      <td>3067 - 8156</td>\n",
       "      <td>4.0</td>\n",
       "      <td>477.000</td>\n",
       "      <td>4</td>\n",
       "    </tr>\n",
       "    <tr>\n",
       "      <th>137</th>\n",
       "      <td>8th Phase JP Nagar</td>\n",
       "      <td>2 BHK</td>\n",
       "      <td>1042 - 1105</td>\n",
       "      <td>2.0</td>\n",
       "      <td>54.005</td>\n",
       "      <td>2</td>\n",
       "    </tr>\n",
       "    <tr>\n",
       "      <th>165</th>\n",
       "      <td>Sarjapur</td>\n",
       "      <td>2 BHK</td>\n",
       "      <td>1145 - 1340</td>\n",
       "      <td>2.0</td>\n",
       "      <td>43.490</td>\n",
       "      <td>2</td>\n",
       "    </tr>\n",
       "    <tr>\n",
       "      <th>188</th>\n",
       "      <td>KR Puram</td>\n",
       "      <td>2 BHK</td>\n",
       "      <td>1015 - 1540</td>\n",
       "      <td>2.0</td>\n",
       "      <td>56.800</td>\n",
       "      <td>2</td>\n",
       "    </tr>\n",
       "    <tr>\n",
       "      <th>410</th>\n",
       "      <td>Kengeri</td>\n",
       "      <td>1 BHK</td>\n",
       "      <td>34.46Sq. Meter</td>\n",
       "      <td>1.0</td>\n",
       "      <td>18.500</td>\n",
       "      <td>1</td>\n",
       "    </tr>\n",
       "    <tr>\n",
       "      <th>549</th>\n",
       "      <td>Hennur Road</td>\n",
       "      <td>2 BHK</td>\n",
       "      <td>1195 - 1440</td>\n",
       "      <td>2.0</td>\n",
       "      <td>63.770</td>\n",
       "      <td>2</td>\n",
       "    </tr>\n",
       "    <tr>\n",
       "      <th>648</th>\n",
       "      <td>Arekere</td>\n",
       "      <td>9 Bedroom</td>\n",
       "      <td>4125Perch</td>\n",
       "      <td>9.0</td>\n",
       "      <td>265.000</td>\n",
       "      <td>9</td>\n",
       "    </tr>\n",
       "    <tr>\n",
       "      <th>661</th>\n",
       "      <td>Yelahanka</td>\n",
       "      <td>2 BHK</td>\n",
       "      <td>1120 - 1145</td>\n",
       "      <td>2.0</td>\n",
       "      <td>48.130</td>\n",
       "      <td>2</td>\n",
       "    </tr>\n",
       "    <tr>\n",
       "      <th>672</th>\n",
       "      <td>Bettahalsoor</td>\n",
       "      <td>4 Bedroom</td>\n",
       "      <td>3090 - 5002</td>\n",
       "      <td>4.0</td>\n",
       "      <td>445.000</td>\n",
       "      <td>4</td>\n",
       "    </tr>\n",
       "    <tr>\n",
       "      <th>772</th>\n",
       "      <td>Banashankari Stage VI</td>\n",
       "      <td>2 BHK</td>\n",
       "      <td>1160 - 1195</td>\n",
       "      <td>2.0</td>\n",
       "      <td>59.935</td>\n",
       "      <td>2</td>\n",
       "    </tr>\n",
       "    <tr>\n",
       "      <th>775</th>\n",
       "      <td>Basavanagara</td>\n",
       "      <td>1 BHK</td>\n",
       "      <td>1000Sq. Meter</td>\n",
       "      <td>2.0</td>\n",
       "      <td>93.000</td>\n",
       "      <td>1</td>\n",
       "    </tr>\n",
       "    <tr>\n",
       "      <th>850</th>\n",
       "      <td>Bannerghatta Road</td>\n",
       "      <td>2 BHK</td>\n",
       "      <td>1115 - 1130</td>\n",
       "      <td>2.0</td>\n",
       "      <td>58.935</td>\n",
       "      <td>2</td>\n",
       "    </tr>\n",
       "    <tr>\n",
       "      <th>872</th>\n",
       "      <td>Singapura Village</td>\n",
       "      <td>2 BHK</td>\n",
       "      <td>1100Sq. Yards</td>\n",
       "      <td>2.0</td>\n",
       "      <td>45.000</td>\n",
       "      <td>2</td>\n",
       "    </tr>\n",
       "    <tr>\n",
       "      <th>886</th>\n",
       "      <td>Chandapura</td>\n",
       "      <td>1 BHK</td>\n",
       "      <td>520 - 645</td>\n",
       "      <td>1.0</td>\n",
       "      <td>15.135</td>\n",
       "      <td>1</td>\n",
       "    </tr>\n",
       "    <tr>\n",
       "      <th>927</th>\n",
       "      <td>Thanisandra</td>\n",
       "      <td>2 BHK</td>\n",
       "      <td>1000 - 1285</td>\n",
       "      <td>2.0</td>\n",
       "      <td>43.415</td>\n",
       "      <td>2</td>\n",
       "    </tr>\n",
       "    <tr>\n",
       "      <th>959</th>\n",
       "      <td>Kammasandra</td>\n",
       "      <td>1 BHK</td>\n",
       "      <td>650 - 665</td>\n",
       "      <td>1.0</td>\n",
       "      <td>18.410</td>\n",
       "      <td>1</td>\n",
       "    </tr>\n",
       "    <tr>\n",
       "      <th>990</th>\n",
       "      <td>Sarjapur</td>\n",
       "      <td>1 BHK</td>\n",
       "      <td>633 - 666</td>\n",
       "      <td>1.0</td>\n",
       "      <td>17.535</td>\n",
       "      <td>1</td>\n",
       "    </tr>\n",
       "    <tr>\n",
       "      <th>1019</th>\n",
       "      <td>Marathi Layout</td>\n",
       "      <td>1 Bedroom</td>\n",
       "      <td>5.31Acres</td>\n",
       "      <td>1.0</td>\n",
       "      <td>110.000</td>\n",
       "      <td>1</td>\n",
       "    </tr>\n",
       "    <tr>\n",
       "      <th>1086</th>\n",
       "      <td>Narasapura</td>\n",
       "      <td>2 Bedroom</td>\n",
       "      <td>30Acres</td>\n",
       "      <td>2.0</td>\n",
       "      <td>29.500</td>\n",
       "      <td>2</td>\n",
       "    </tr>\n",
       "  </tbody>\n",
       "</table>\n",
       "</div>"
      ],
      "text/plain": [
       "                   location       size      total_sqft  bath    price  \\\n",
       "30                Yelahanka      4 BHK     2100 - 2850   4.0  186.000   \n",
       "122                  Hebbal      4 BHK     3067 - 8156   4.0  477.000   \n",
       "137      8th Phase JP Nagar      2 BHK     1042 - 1105   2.0   54.005   \n",
       "165                Sarjapur      2 BHK     1145 - 1340   2.0   43.490   \n",
       "188                KR Puram      2 BHK     1015 - 1540   2.0   56.800   \n",
       "410                 Kengeri      1 BHK  34.46Sq. Meter   1.0   18.500   \n",
       "549             Hennur Road      2 BHK     1195 - 1440   2.0   63.770   \n",
       "648                 Arekere  9 Bedroom       4125Perch   9.0  265.000   \n",
       "661               Yelahanka      2 BHK     1120 - 1145   2.0   48.130   \n",
       "672            Bettahalsoor  4 Bedroom     3090 - 5002   4.0  445.000   \n",
       "772   Banashankari Stage VI      2 BHK     1160 - 1195   2.0   59.935   \n",
       "775            Basavanagara      1 BHK   1000Sq. Meter   2.0   93.000   \n",
       "850       Bannerghatta Road      2 BHK     1115 - 1130   2.0   58.935   \n",
       "872       Singapura Village      2 BHK   1100Sq. Yards   2.0   45.000   \n",
       "886              Chandapura      1 BHK       520 - 645   1.0   15.135   \n",
       "927             Thanisandra      2 BHK     1000 - 1285   2.0   43.415   \n",
       "959             Kammasandra      1 BHK       650 - 665   1.0   18.410   \n",
       "990                Sarjapur      1 BHK       633 - 666   1.0   17.535   \n",
       "1019         Marathi Layout  1 Bedroom       5.31Acres   1.0  110.000   \n",
       "1086             Narasapura  2 Bedroom         30Acres   2.0   29.500   \n",
       "\n",
       "      bhk value  \n",
       "30            4  \n",
       "122           4  \n",
       "137           2  \n",
       "165           2  \n",
       "188           2  \n",
       "410           1  \n",
       "549           2  \n",
       "648           9  \n",
       "661           2  \n",
       "672           4  \n",
       "772           2  \n",
       "775           1  \n",
       "850           2  \n",
       "872           2  \n",
       "886           1  \n",
       "927           2  \n",
       "959           1  \n",
       "990           1  \n",
       "1019          1  \n",
       "1086          2  "
      ]
     },
     "execution_count": 13,
     "metadata": {},
     "output_type": "execute_result"
    }
   ],
   "source": [
    "# it will only show those rows which has '2100-2150'type values . we will not create new dataframe here\n",
    "df3[~df3['total_sqft'].apply(is_float)].head(20)\n",
    "#1. you can see some of the data has diff unit then sqft i.e yard, acre sq.mt all diff data need to change in sqft but we will\n",
    "#delete the rows which has diff unit . bcz its hard to deal with them\n",
    "#2. we will replce '211-2850' with the mean value of both"
   ]
  },
  {
   "cell_type": "code",
   "execution_count": 14,
   "id": "8ca57284",
   "metadata": {},
   "outputs": [],
   "source": [
    "# creating new data frame df4 and in df3 we will replace mean with '2100-2150'value\n",
    "# creating a fuction to replace the values and single value convert to float and diff unit values to drop\n",
    "# we apply this function to df3 data to get new dataframe df4\n",
    "\n",
    "    \n",
    "def convert_sqft_to_num(x):\n",
    "    # we split it now and create a list \n",
    "    tokens=x.split('-')\n",
    "    if len(tokens)==2: # for '2100-2150 'type value\n",
    "        return (float(tokens[0])+float(tokens[1]))/2\n",
    "    try:                                             # try is not bool function\n",
    "        return float(x)                              # it will turn all single value to float\n",
    "    except: \n",
    "        return None # for diff unit value i.e acre , yard\n",
    " \n",
    "    \n",
    "    \n",
    "\n"
   ]
  },
  {
   "cell_type": "code",
   "execution_count": 15,
   "id": "b6412100",
   "metadata": {},
   "outputs": [
    {
     "data": {
      "text/html": [
       "<div>\n",
       "<style scoped>\n",
       "    .dataframe tbody tr th:only-of-type {\n",
       "        vertical-align: middle;\n",
       "    }\n",
       "\n",
       "    .dataframe tbody tr th {\n",
       "        vertical-align: top;\n",
       "    }\n",
       "\n",
       "    .dataframe thead th {\n",
       "        text-align: right;\n",
       "    }\n",
       "</style>\n",
       "<table border=\"1\" class=\"dataframe\">\n",
       "  <thead>\n",
       "    <tr style=\"text-align: right;\">\n",
       "      <th></th>\n",
       "      <th>location</th>\n",
       "      <th>size</th>\n",
       "      <th>total_sqft</th>\n",
       "      <th>bath</th>\n",
       "      <th>price</th>\n",
       "      <th>bhk value</th>\n",
       "    </tr>\n",
       "  </thead>\n",
       "  <tbody>\n",
       "    <tr>\n",
       "      <th>0</th>\n",
       "      <td>Electronic City Phase II</td>\n",
       "      <td>2 BHK</td>\n",
       "      <td>1056.0</td>\n",
       "      <td>2.0</td>\n",
       "      <td>39.07</td>\n",
       "      <td>2</td>\n",
       "    </tr>\n",
       "    <tr>\n",
       "      <th>1</th>\n",
       "      <td>Chikka Tirupathi</td>\n",
       "      <td>4 Bedroom</td>\n",
       "      <td>2600.0</td>\n",
       "      <td>5.0</td>\n",
       "      <td>120.00</td>\n",
       "      <td>4</td>\n",
       "    </tr>\n",
       "  </tbody>\n",
       "</table>\n",
       "</div>"
      ],
      "text/plain": [
       "                   location       size  total_sqft  bath   price  bhk value\n",
       "0  Electronic City Phase II      2 BHK      1056.0   2.0   39.07          2\n",
       "1          Chikka Tirupathi  4 Bedroom      2600.0   5.0  120.00          4"
      ]
     },
     "execution_count": 15,
     "metadata": {},
     "output_type": "execute_result"
    }
   ],
   "source": [
    "#df3['total_sqft']=df3['total_sqft'].apply(convert_sqft_to_num)\n",
    "#df3['total_sqft'] = df3['total_sqft'].apply(convert_sqft_to_num)\n",
    "\n",
    "#df3.total_sqft = df3.total_sqft.apply(convert_sqft_to_num)\n",
    "df4 = df3.copy()\n",
    "df4.total_sqft = df4.total_sqft.apply(convert_sqft_to_num)\n",
    "df4 = df4[df4.total_sqft.notnull()]\n",
    "df4.head(2)"
   ]
  },
  {
   "cell_type": "markdown",
   "id": "120266f1",
   "metadata": {},
   "source": [
    "# FEATURE ENGGINEARING IN DATAFRAME."
   ]
  },
  {
   "cell_type": "raw",
   "id": "03017b04",
   "metadata": {},
   "source": [
    "IF ROWS ARE OF TEXT VALUE WE HAVE TO CONVERT  THAT COLUMN TO OTHER INDIVIDUAL COLUMN.I.E UNIWUE NO. OF ROWS IN LOCATION COLUMN ARE \n",
    "1304 THAN WE HAVE TO MAKE NEW 1304 COLUMNS . ALSO CALLED CURSE OF DIMENTIONALITY .\n",
    "WE CAN REMOVE THAT CURSE BY MANY WAYS.\n",
    "1.CONVERT MOST IRREVALANT LOCATION COLUMN VALUE INTO OTHER COLUMN NAME VALUE\n",
    "2."
   ]
  },
  {
   "cell_type": "code",
   "execution_count": 16,
   "id": "aee276fb",
   "metadata": {},
   "outputs": [
    {
     "data": {
      "text/html": [
       "<div>\n",
       "<style scoped>\n",
       "    .dataframe tbody tr th:only-of-type {\n",
       "        vertical-align: middle;\n",
       "    }\n",
       "\n",
       "    .dataframe tbody tr th {\n",
       "        vertical-align: top;\n",
       "    }\n",
       "\n",
       "    .dataframe thead th {\n",
       "        text-align: right;\n",
       "    }\n",
       "</style>\n",
       "<table border=\"1\" class=\"dataframe\">\n",
       "  <thead>\n",
       "    <tr style=\"text-align: right;\">\n",
       "      <th></th>\n",
       "      <th>location</th>\n",
       "      <th>size</th>\n",
       "      <th>total_sqft</th>\n",
       "      <th>bath</th>\n",
       "      <th>price</th>\n",
       "      <th>bhk value</th>\n",
       "      <th>price_per_sqft</th>\n",
       "    </tr>\n",
       "  </thead>\n",
       "  <tbody>\n",
       "    <tr>\n",
       "      <th>0</th>\n",
       "      <td>Electronic City Phase II</td>\n",
       "      <td>2 BHK</td>\n",
       "      <td>1056.0</td>\n",
       "      <td>2.0</td>\n",
       "      <td>39.07</td>\n",
       "      <td>2</td>\n",
       "      <td>3699.810606</td>\n",
       "    </tr>\n",
       "    <tr>\n",
       "      <th>1</th>\n",
       "      <td>Chikka Tirupathi</td>\n",
       "      <td>4 Bedroom</td>\n",
       "      <td>2600.0</td>\n",
       "      <td>5.0</td>\n",
       "      <td>120.00</td>\n",
       "      <td>4</td>\n",
       "      <td>4615.384615</td>\n",
       "    </tr>\n",
       "    <tr>\n",
       "      <th>2</th>\n",
       "      <td>Uttarahalli</td>\n",
       "      <td>3 BHK</td>\n",
       "      <td>1440.0</td>\n",
       "      <td>2.0</td>\n",
       "      <td>62.00</td>\n",
       "      <td>3</td>\n",
       "      <td>4305.555556</td>\n",
       "    </tr>\n",
       "    <tr>\n",
       "      <th>3</th>\n",
       "      <td>Lingadheeranahalli</td>\n",
       "      <td>3 BHK</td>\n",
       "      <td>1521.0</td>\n",
       "      <td>3.0</td>\n",
       "      <td>95.00</td>\n",
       "      <td>3</td>\n",
       "      <td>6245.890861</td>\n",
       "    </tr>\n",
       "    <tr>\n",
       "      <th>4</th>\n",
       "      <td>Kothanur</td>\n",
       "      <td>2 BHK</td>\n",
       "      <td>1200.0</td>\n",
       "      <td>2.0</td>\n",
       "      <td>51.00</td>\n",
       "      <td>2</td>\n",
       "      <td>4250.000000</td>\n",
       "    </tr>\n",
       "    <tr>\n",
       "      <th>...</th>\n",
       "      <td>...</td>\n",
       "      <td>...</td>\n",
       "      <td>...</td>\n",
       "      <td>...</td>\n",
       "      <td>...</td>\n",
       "      <td>...</td>\n",
       "      <td>...</td>\n",
       "    </tr>\n",
       "    <tr>\n",
       "      <th>13315</th>\n",
       "      <td>Whitefield</td>\n",
       "      <td>5 Bedroom</td>\n",
       "      <td>3453.0</td>\n",
       "      <td>4.0</td>\n",
       "      <td>231.00</td>\n",
       "      <td>5</td>\n",
       "      <td>6689.834926</td>\n",
       "    </tr>\n",
       "    <tr>\n",
       "      <th>13316</th>\n",
       "      <td>Richards Town</td>\n",
       "      <td>4 BHK</td>\n",
       "      <td>3600.0</td>\n",
       "      <td>5.0</td>\n",
       "      <td>400.00</td>\n",
       "      <td>4</td>\n",
       "      <td>11111.111111</td>\n",
       "    </tr>\n",
       "    <tr>\n",
       "      <th>13317</th>\n",
       "      <td>Raja Rajeshwari Nagar</td>\n",
       "      <td>2 BHK</td>\n",
       "      <td>1141.0</td>\n",
       "      <td>2.0</td>\n",
       "      <td>60.00</td>\n",
       "      <td>2</td>\n",
       "      <td>5258.545136</td>\n",
       "    </tr>\n",
       "    <tr>\n",
       "      <th>13318</th>\n",
       "      <td>Padmanabhanagar</td>\n",
       "      <td>4 BHK</td>\n",
       "      <td>4689.0</td>\n",
       "      <td>4.0</td>\n",
       "      <td>488.00</td>\n",
       "      <td>4</td>\n",
       "      <td>10407.336319</td>\n",
       "    </tr>\n",
       "    <tr>\n",
       "      <th>13319</th>\n",
       "      <td>Doddathoguru</td>\n",
       "      <td>1 BHK</td>\n",
       "      <td>550.0</td>\n",
       "      <td>1.0</td>\n",
       "      <td>17.00</td>\n",
       "      <td>1</td>\n",
       "      <td>3090.909091</td>\n",
       "    </tr>\n",
       "  </tbody>\n",
       "</table>\n",
       "<p>13200 rows × 7 columns</p>\n",
       "</div>"
      ],
      "text/plain": [
       "                       location       size  total_sqft  bath   price  \\\n",
       "0      Electronic City Phase II      2 BHK      1056.0   2.0   39.07   \n",
       "1              Chikka Tirupathi  4 Bedroom      2600.0   5.0  120.00   \n",
       "2                   Uttarahalli      3 BHK      1440.0   2.0   62.00   \n",
       "3            Lingadheeranahalli      3 BHK      1521.0   3.0   95.00   \n",
       "4                      Kothanur      2 BHK      1200.0   2.0   51.00   \n",
       "...                         ...        ...         ...   ...     ...   \n",
       "13315                Whitefield  5 Bedroom      3453.0   4.0  231.00   \n",
       "13316             Richards Town      4 BHK      3600.0   5.0  400.00   \n",
       "13317     Raja Rajeshwari Nagar      2 BHK      1141.0   2.0   60.00   \n",
       "13318           Padmanabhanagar      4 BHK      4689.0   4.0  488.00   \n",
       "13319              Doddathoguru      1 BHK       550.0   1.0   17.00   \n",
       "\n",
       "       bhk value  price_per_sqft  \n",
       "0              2     3699.810606  \n",
       "1              4     4615.384615  \n",
       "2              3     4305.555556  \n",
       "3              3     6245.890861  \n",
       "4              2     4250.000000  \n",
       "...          ...             ...  \n",
       "13315          5     6689.834926  \n",
       "13316          4    11111.111111  \n",
       "13317          2     5258.545136  \n",
       "13318          4    10407.336319  \n",
       "13319          1     3090.909091  \n",
       "\n",
       "[13200 rows x 7 columns]"
      ]
     },
     "execution_count": 16,
     "metadata": {},
     "output_type": "execute_result"
    }
   ],
   "source": [
    "# lets check how many irrevalent rows in location column .location which are less than 10 are considered irrevalent for this dataframe\n",
    "df5=df4.copy()\n",
    "df5['price_per_sqft']=(df5['price']*100000)/(df5['total_sqft']) # price in rupee not lakh of per sqft\n",
    "df5"
   ]
  },
  {
   "cell_type": "code",
   "execution_count": 17,
   "id": "bb2631fd",
   "metadata": {},
   "outputs": [
    {
     "data": {
      "text/plain": [
       "1298"
      ]
     },
     "execution_count": 17,
     "metadata": {},
     "output_type": "execute_result"
    }
   ],
   "source": [
    "len(df5['location'].unique())   # 1298 unique rows in location column so we will make new 1298 columns in dataframe for analysis"
   ]
  },
  {
   "cell_type": "code",
   "execution_count": 18,
   "id": "346e438d",
   "metadata": {},
   "outputs": [],
   "source": [
    "# lets count all type of unique locations in location column . and if any laction is <=10 than convert to other named column\n",
    "df5['location ']=df5['location'].apply(lambda x: x.strip()) # it will strip away all spaces present in front and end of location value\n",
    "# after strip fuction now location column is ready to us"
   ]
  },
  {
   "cell_type": "code",
   "execution_count": 20,
   "id": "ac38eda7",
   "metadata": {},
   "outputs": [
    {
     "data": {
      "text/plain": [
       "Whitefield                   532\n",
       "Sarjapur  Road               392\n",
       "Electronic City              302\n",
       "Kanakpura Road               264\n",
       "Thanisandra                  232\n",
       "                            ... \n",
       "Indiranagar HAL 2nd Stage      1\n",
       "Maruthi HBCS Layout            1\n",
       "K R C kothanur                 1\n",
       "1Channasandra                  1\n",
       "Abshot Layout                  1\n",
       "Name: location, Length: 1298, dtype: int64"
      ]
     },
     "execution_count": 20,
     "metadata": {},
     "output_type": "execute_result"
    }
   ],
   "source": [
    "#lets count\n",
    "location_stats = df5['location'].value_counts(ascending=False)   # we use value_count for text count and location stats will no need to group it will directly count\n",
    " # we use value_count for text count and location stats will \n",
    "location_stats\n"
   ]
  },
  {
   "cell_type": "code",
   "execution_count": 1,
   "id": "0b942c88",
   "metadata": {},
   "outputs": [
    {
     "name": "stdout",
     "output_type": "stream",
     "text": [
      "[[1 2 3 2 3 4]]\n",
      "[[1 2]\n",
      " [2 3]\n",
      " [3 4]]\n"
     ]
    },
    {
     "name": "stderr",
     "output_type": "stream",
     "text": [
      "C:\\Users\\sansa\\AppData\\Local\\Temp\\ipykernel_4344\\1083452140.py:2: DeprecationWarning: scipy.array is deprecated and will be removed in SciPy 2.0.0, use numpy.array instead\n",
      "  a=sp.array((1,2,3))\n",
      "C:\\Users\\sansa\\AppData\\Local\\Temp\\ipykernel_4344\\1083452140.py:3: DeprecationWarning: scipy.array is deprecated and will be removed in SciPy 2.0.0, use numpy.array instead\n",
      "  b=sp.array((2,3,4))\n",
      "C:\\Users\\sansa\\AppData\\Local\\Temp\\ipykernel_4344\\1083452140.py:4: DeprecationWarning: scipy.column_stack is deprecated and will be removed in SciPy 2.0.0, use numpy.column_stack instead\n",
      "  print(sp.column_stack(([a],[b])))\n",
      "C:\\Users\\sansa\\AppData\\Local\\Temp\\ipykernel_4344\\1083452140.py:5: DeprecationWarning: scipy.column_stack is deprecated and will be removed in SciPy 2.0.0, use numpy.column_stack instead\n",
      "  print(sp.column_stack((a,b)))\n"
     ]
    }
   ],
   "source": [
    "import scipy as sp\n",
    "a=sp.array((1,2,3))\n",
    "b=sp.array((2,3,4))\n",
    "print(sp.column_stack(([a],[b])))\n",
    "print(sp.column_stack((a,b)))"
   ]
  },
  {
   "cell_type": "code",
   "execution_count": null,
   "id": "a8708531",
   "metadata": {},
   "outputs": [],
   "source": []
  },
  {
   "cell_type": "code",
   "execution_count": null,
   "id": "abafff01",
   "metadata": {},
   "outputs": [],
   "source": []
  },
  {
   "cell_type": "code",
   "execution_count": null,
   "id": "8524d516",
   "metadata": {},
   "outputs": [],
   "source": []
  },
  {
   "cell_type": "code",
   "execution_count": null,
   "id": "a5433821",
   "metadata": {},
   "outputs": [],
   "source": []
  },
  {
   "cell_type": "code",
   "execution_count": null,
   "id": "d6d20419",
   "metadata": {},
   "outputs": [],
   "source": []
  },
  {
   "cell_type": "code",
   "execution_count": null,
   "id": "8d2ceeaf",
   "metadata": {},
   "outputs": [],
   "source": []
  },
  {
   "cell_type": "code",
   "execution_count": null,
   "id": "c059e9af",
   "metadata": {},
   "outputs": [],
   "source": []
  },
  {
   "cell_type": "code",
   "execution_count": null,
   "id": "f8d037c9",
   "metadata": {},
   "outputs": [],
   "source": []
  },
  {
   "cell_type": "code",
   "execution_count": null,
   "id": "768291f7",
   "metadata": {},
   "outputs": [],
   "source": []
  }
 ],
 "metadata": {
  "kernelspec": {
   "display_name": "Python 3 (ipykernel)",
   "language": "python",
   "name": "python3"
  },
  "language_info": {
   "codemirror_mode": {
    "name": "ipython",
    "version": 3
   },
   "file_extension": ".py",
   "mimetype": "text/x-python",
   "name": "python",
   "nbconvert_exporter": "python",
   "pygments_lexer": "ipython3",
   "version": "3.10.9"
  }
 },
 "nbformat": 4,
 "nbformat_minor": 5
}
